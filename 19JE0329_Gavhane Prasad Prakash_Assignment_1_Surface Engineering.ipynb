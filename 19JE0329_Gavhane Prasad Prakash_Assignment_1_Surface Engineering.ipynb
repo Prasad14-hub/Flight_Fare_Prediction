{
  "cells": [
    {
      "cell_type": "markdown",
      "source": [
        "\n",
        "**Importing required libraries**"
      ],
      "metadata": {
        "id": "Y1JDtLudU5Tx"
      }
    },
    {
      "cell_type": "code",
      "execution_count": 52,
      "metadata": {
        "id": "G3VsT8LvfzJK"
      },
      "outputs": [],
      "source": [
        "from math import *\n",
        "import seaborn as sns\n",
        "import scipy as sp\n",
        "import numpy as np\n",
        "import matplotlib.pyplot as plt\n",
        "from sympy import *\n",
        "import warnings\n",
        "warnings.filterwarnings(\"ignore\")\n",
        "%matplotlib inline"
      ]
    },
    {
      "cell_type": "markdown",
      "source": [
        "**Generating a random surface profile using bounded functions All calculations have been performed on this curve in the range (6,29)**"
      ],
      "metadata": {
        "id": "lx-ZTX5ggtfZ"
      }
    },
    {
      "cell_type": "code",
      "execution_count": 53,
      "metadata": {
        "colab": {
          "base_uri": "https://localhost:8080/",
          "height": 248
        },
        "id": "TXN0s1IofzJN",
        "outputId": "90defb5e-82d3-4f05-e568-ab5ec8b3f6e6"
      },
      "outputs": [
        {
          "output_type": "display_data",
          "data": {
            "text/plain": [
              "<Figure size 432x288 with 1 Axes>"
            ],
            "image/png": "[encoded data removed]"
          },
          "metadata": {
            "needs_background": "light"
          }
        }
      ],
      "source": [
        "x = np.linspace(6,29,1000)\n",
        "y = 0.78*np.arctan(x/2)+np.sin(2*x)+0.8*np.cos(x/2)+0.7*np.sin(x/4)+1.3*np.arctan(x/2)\n",
        "fig = plt.figure()\n",
        "ax = fig.add_subplot(1, 1, 1)\n",
        "ax.spines['bottom'].set_position('center')\n",
        "ax.spines['right'].set_color('none')\n",
        "ax.spines['top'].set_color('none')\n",
        "ax.xaxis.set_ticks_position('bottom')\n",
        "ax.yaxis.set_ticks_position('left')\n",
        "\n",
        "plt.plot(x,y, 'r-')\n",
        "plt.show()"
      ]
    },
    {
      "cell_type": "markdown",
      "source": [
        "\n",
        "**Defining various functions that we can use later**"
      ],
      "metadata": {
        "id": "-IPOKq3efC12"
      }
    },
    {
      "cell_type": "code",
      "execution_count": 54,
      "metadata": {
        "id": "DC-tSJ1KfzJO"
      },
      "outputs": [],
      "source": [
        "def func(n):\n",
        "    return lambda x:(0.78*np.arctan(x/2)+np.sin(2*x)+0.8*np.cos(x/2)+0.7*np.sin(x/4)+1.3*np.arctan(x/2))**n\n",
        "\n",
        "def abs_func():\n",
        "    return lambda x:np.absolute(0.78*np.arctan(x/2)+np.sin(2*x)+0.8*np.cos(x/2)+0.7*np.sin(x/4)+1.3*np.arctan(x/2))\n",
        "\n",
        "def neg_func():\n",
        "    return lambda x:(0.78*np.arctan(x/2)+np.sin(2*x)+0.8*np.cos(x/2)+0.7*np.sin(x/4)+1.3*np.arctan(x/2))*(-1)"
      ]
    },
    {
      "cell_type": "code",
      "execution_count": 55,
      "metadata": {
        "id": "wMffKMvGfzJR",
        "colab": {
          "base_uri": "https://localhost:8080/"
        },
        "outputId": "5030c61f-b711-433c-91cc-4cbbcf9b2f60"
      },
      "outputs": [
        {
          "output_type": "stream",
          "name": "stdout",
          "text": [
            "     fun: -4.982808168668448\n",
            " message: 'Solution found.'\n",
            "    nfev: 13\n",
            "  status: 0\n",
            " success: True\n",
            "       x: 25.92403423112637\n"
          ]
        }
      ],
      "source": [
        "#Maximum profile peak height(Rp)\n",
        "Rp = sp.optimize.minimize_scalar(neg_func(), bounds=[6,29], method='bounded')\n",
        "print(Rp)"
      ]
    },
    {
      "cell_type": "code",
      "execution_count": 56,
      "metadata": {
        "colab": {
          "base_uri": "https://localhost:8080/"
        },
        "id": "jw2-njQ5fzJR",
        "outputId": "9f4f98df-c177-4bc2-ebec-aebb4c32be9c"
      },
      "outputs": [
        {
          "output_type": "stream",
          "name": "stdout",
          "text": [
            "     fun: 1.8759802967572137\n",
            " message: 'Solution found.'\n",
            "    nfev: 15\n",
            "  status: 0\n",
            " success: True\n",
            "       x: 15.0496336188356\n"
          ]
        }
      ],
      "source": [
        "#Maximum profile valley depth(Rv)\n",
        "Rv = sp.optimize.minimize_scalar(func(1), bounds=[6,29], method='bounded')\n",
        "print(Rv)"
      ]
    },
    {
      "cell_type": "code",
      "execution_count": 57,
      "metadata": {
        "colab": {
          "base_uri": "https://localhost:8080/"
        },
        "id": "c3QougXqfzJS",
        "outputId": "4198e3a0-28b9-4dc1-91a5-9e66645def82"
      },
      "outputs": [
        {
          "output_type": "stream",
          "name": "stdout",
          "text": [
            "3.106827871911234\n"
          ]
        }
      ],
      "source": [
        "#Maximum height(Rz)\n",
        "Rz = -Rp.fun - Rv.fun\n",
        "print(Rz)"
      ]
    },
    {
      "cell_type": "code",
      "execution_count": 58,
      "metadata": {
        "colab": {
          "base_uri": "https://localhost:8080/"
        },
        "id": "73aK0mA3fzJR",
        "outputId": "8ccec9cd-ca5b-455e-eec0-bc41ef40cc76"
      },
      "outputs": [
        {
          "output_type": "stream",
          "name": "stdout",
          "text": [
            "2.995835752382599\n"
          ]
        }
      ],
      "source": [
        "#Average Deviation(Ra)\n",
        "Ra = sp.integrate.quad(abs_func(),6,29)[0]*(1/23)\n",
        "print(Ra)"
      ]
    },
    {
      "cell_type": "code",
      "execution_count": 59,
      "metadata": {
        "colab": {
          "base_uri": "https://localhost:8080/"
        },
        "id": "CXe9im7-fzJP",
        "outputId": "f0581468-5976-45b8-96c5-1d152ba25606"
      },
      "outputs": [
        {
          "output_type": "stream",
          "name": "stdout",
          "text": [
            "3.169977620273772\n"
          ]
        }
      ],
      "source": [
        "#Root mean square deviation(Rq)\n",
        "Rq = np.sqrt(sp.integrate.quad(func(2),6,29))[0]*np.sqrt(1/23)\n",
        "print(Rq)"
      ]
    },
    {
      "cell_type": "code",
      "execution_count": 60,
      "metadata": {
        "colab": {
          "base_uri": "https://localhost:8080/"
        },
        "id": "BshobHkgfzJQ",
        "outputId": "ce305f92-2c3d-4fc8-f224-c91d927d7515"
      },
      "outputs": [
        {
          "output_type": "stream",
          "name": "stdout",
          "text": [
            "1.0\n"
          ]
        }
      ],
      "source": [
        "#Skewness(Rsk)\n",
        "Rsk=(sp.integrate.quad(func(3),6,29)[0]*(1/23))//(Rq**(3))\n",
        "print(Rsk)"
      ]
    },
    {
      "cell_type": "code",
      "execution_count": 61,
      "metadata": {
        "colab": {
          "base_uri": "https://localhost:8080/"
        },
        "id": "sfbyhs3UfzJQ",
        "outputId": "cbb5a008-2cee-40ed-9c2a-400a3815e304"
      },
      "outputs": [
        {
          "output_type": "stream",
          "name": "stdout",
          "text": [
            "1.0\n"
          ]
        }
      ],
      "source": [
        "#Kurtosis(Rku)\n",
        "Rku=(sp.integrate.quad(func(4),6,29)[0]*(1/23))//(Rq**(4))\n",
        "print(Rku)"
      ]
    }
  ],
  "metadata": {
    "kernelspec": {
      "display_name": "Python 3",
      "language": "python",
      "name": "python3"
    },
    "language_info": {
      "codemirror_mode": {
        "name": "ipython",
        "version": 3
      },
      "file_extension": ".py",
      "mimetype": "text/x-python",
      "name": "python",
      "nbconvert_exporter": "python",
      "pygments_lexer": "ipython3",
      "version": "3.8.5"
    },
    "colab": {
      "provenance": []
    }
  },
  "nbformat": 4,
  "nbformat_minor": 0
}